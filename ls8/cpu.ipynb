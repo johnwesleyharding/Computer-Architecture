{
 "cells": [
  {
   "cell_type": "code",
   "execution_count": 4,
   "metadata": {},
   "outputs": [],
   "source": [
    "import sys\n",
    "\n",
    "class CPU:\n",
    "\n",
    "    def __init__(self):\n",
    "        \n",
    "        self.ram = [0] * 8\n",
    "\n",
    "    def load(self):\n",
    "\n",
    "        address = 0\n",
    "\n",
    "        program = [\n",
    "            0b10000010, # LDI R0,8\n",
    "            0b00000000,\n",
    "            0b00001000,\n",
    "            0b01000111, # PRN R0\n",
    "            0b00000000,\n",
    "            0b00000001, # HLT\n",
    "        ]\n",
    "\n",
    "        for instruction in program:\n",
    "            self.ram[address] = instruction\n",
    "            address += 1\n",
    "\n",
    "    def alu(self, op, reg_a, reg_b):\n",
    "\n",
    "        if op == \"ADD\":\n",
    "            self.reg[reg_a] += self.reg[reg_b]\n",
    "        #elif op == \"SUB\": etc\n",
    "        else:\n",
    "            raise Exception(\"Unsupported ALU operation\")\n",
    "\n",
    "    def trace(self):\n",
    "\n",
    "        print(f\"TRACE: %02X | %02X %02X %02X |\" % (\n",
    "            self.pc,\n",
    "            #self.fl,\n",
    "            #self.ie,\n",
    "            self.ram_read(self.pc),\n",
    "            self.ram_read(self.pc + 1),\n",
    "            self.ram_read(self.pc + 2)\n",
    "        ), end='')\n",
    "\n",
    "        for i in range(8):\n",
    "            print(\" %02X\" % self.reg[i], end='')\n",
    "\n",
    "        print()\n",
    "\n",
    "    def run(self):\n",
    "        pass"
   ]
  },
  {
   "cell_type": "code",
   "execution_count": null,
   "metadata": {},
   "outputs": [],
   "source": []
  }
 ],
 "metadata": {
  "kernelspec": {
   "display_name": "Python 3",
   "language": "python",
   "name": "python3"
  },
  "language_info": {
   "codemirror_mode": {
    "name": "ipython",
    "version": 3
   },
   "file_extension": ".py",
   "mimetype": "text/x-python",
   "name": "python",
   "nbconvert_exporter": "python",
   "pygments_lexer": "ipython3",
   "version": "3.7.4"
  }
 },
 "nbformat": 4,
 "nbformat_minor": 4
}
